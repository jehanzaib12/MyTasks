{
 "cells": [
  {
   "cell_type": "code",
   "execution_count": 115,
   "id": "9ddd7e28-304f-4bb1-9401-963ca6b35937",
   "metadata": {},
   "outputs": [],
   "source": [
    "from langchain_community.document_loaders import PyPDFLoader\n",
    "from langchain.retrievers import BM25Retriever, EnsembleRetriever\n",
    "from langchain.prompts import PromptTemplate\n",
    "from langchain.chat_models import ChatOpenAI\n",
    "from langchain.chains import RetrievalQA"
   ]
  },
  {
   "cell_type": "code",
   "execution_count": 209,
   "id": "326eec6a-4196-41fc-84d4-b584fcfcb5b8",
   "metadata": {},
   "outputs": [],
   "source": [
    "import os\n",
    "from dotenv import load_dotenv\n",
    "\n",
    "load_dotenv() # will search for .env file in local folder and load variables \n",
    "\n",
    "OPENAI_API_KEY = os.getenv('OPENAI_API_KEY')\n",
    "\n",
    "Cohere_API_token = os.getenv(\"COHERE_API_KEY\")\n"
   ]
  },
  {
   "cell_type": "code",
   "execution_count": 210,
   "id": "dd7978b9-ce6e-4548-a5a2-5e3e20f76a89",
   "metadata": {},
   "outputs": [],
   "source": [
    "os.environ['OPENAI_API_KEY'] = OPENAI_API_KEY\n",
    "os.environ[\"COHERE_API_KEY\"] =Cohere_API_token"
   ]
  },
  {
   "cell_type": "code",
   "execution_count": 211,
   "id": "daeb8b23-9f54-4791-b472-b22d65d8d52d",
   "metadata": {},
   "outputs": [],
   "source": [
    "loader = PyPDFLoader(\"Annual-Report-2024-14-32.pdf\")"
   ]
  },
  {
   "cell_type": "code",
   "execution_count": 212,
   "id": "9e5a72d5-31f7-457c-8cac-1a38cb8dd2a5",
   "metadata": {},
   "outputs": [],
   "source": [
    "documents = loader.load()"
   ]
  },
  {
   "cell_type": "code",
   "execution_count": 213,
   "id": "6ab752e4-57f7-4e2c-9ee5-069df57d94e5",
   "metadata": {},
   "outputs": [],
   "source": [
    "from langchain.text_splitter import RecursiveCharacterTextSplitter"
   ]
  },
  {
   "cell_type": "code",
   "execution_count": 214,
   "id": "fbbe2a16-8483-4e2f-90b3-93c69d994bd1",
   "metadata": {},
   "outputs": [],
   "source": [
    "text_splitter = RecursiveCharacterTextSplitter(chunk_size=500, chunk_overlap=100)"
   ]
  },
  {
   "cell_type": "code",
   "execution_count": 215,
   "id": "a6e4fc4b-6c52-4526-8930-e3ae5c7e0a18",
   "metadata": {},
   "outputs": [
    {
     "name": "stdout",
     "output_type": "stream",
     "text": [
      "180\n"
     ]
    }
   ],
   "source": [
    "text_splits=text_splitter.split_documents(documents)\n",
    "print(len(text_splits))"
   ]
  },
  {
   "cell_type": "code",
   "execution_count": 216,
   "id": "8dfc1a81-2875-40e2-bf60-f0705df4c710",
   "metadata": {},
   "outputs": [],
   "source": [
    "chunks = text_splitter.split_documents(documents)"
   ]
  },
  {
   "cell_type": "code",
   "execution_count": 217,
   "id": "943b38f7-1f4c-4cca-a2f4-9df0edb079d5",
   "metadata": {},
   "outputs": [],
   "source": [
    "from langchain_community.embeddings import OpenAIEmbeddings"
   ]
  },
  {
   "cell_type": "code",
   "execution_count": 218,
   "id": "086ff07c-7b53-44c4-9a49-bf3c67d5cbc4",
   "metadata": {},
   "outputs": [],
   "source": [
    "from langchain_community.vectorstores import Chroma"
   ]
  },
  {
   "cell_type": "code",
   "execution_count": 219,
   "id": "a138f8c7-848c-4279-be72-dcafd6adc7b8",
   "metadata": {},
   "outputs": [],
   "source": [
    "embeddings = OpenAIEmbeddings(openai_api_key=openai_api_key)"
   ]
  },
  {
   "cell_type": "code",
   "execution_count": 220,
   "id": "8bac94f8-8c6c-4fbf-af93-1c2bd6c53101",
   "metadata": {},
   "outputs": [],
   "source": [
    "vectorstore = Chroma.from_documents(chunks, embeddings, persist_directory=\"./chroma_db\")"
   ]
  },
  {
   "cell_type": "code",
   "execution_count": 221,
   "id": "5b598a18-f8ef-4f95-b574-94c7edfbc643",
   "metadata": {},
   "outputs": [],
   "source": [
    "retriever_vectordb = vectorstore.as_retriever(search_kwargs={\"k\": 5})"
   ]
  },
  {
   "cell_type": "code",
   "execution_count": null,
   "id": "11ad4aa1-3745-49f1-9540-56d2512b3359",
   "metadata": {},
   "outputs": [],
   "source": []
  },
  {
   "cell_type": "code",
   "execution_count": 222,
   "id": "0e972008-f393-4d25-9e54-4efef30d5ec2",
   "metadata": {},
   "outputs": [],
   "source": [
    "# Hybrid Retrieval\n",
    "keyword_retriever = BM25Retriever.from_documents(text_splits)\n",
    "keyword_retriever.k =  5\n",
    "ensemble_retriever = EnsembleRetriever(retrievers=[retriever_vectordb,keyword_retriever],\n",
    "                                       weights=[0.5, 0.5])"
   ]
  },
  {
   "cell_type": "code",
   "execution_count": 223,
   "id": "6f0ca67e-73a6-4b9b-88fb-77b0f772b99e",
   "metadata": {},
   "outputs": [
    {
     "data": {
      "text/plain": [
       "'What is PSX?'"
      ]
     },
     "execution_count": 223,
     "metadata": {},
     "output_type": "execute_result"
    }
   ],
   "source": [
    "query"
   ]
  },
  {
   "cell_type": "code",
   "execution_count": 225,
   "id": "11a65c20-3a96-463b-832f-1e63982cc22c",
   "metadata": {},
   "outputs": [
    {
     "data": {
      "text/plain": [
       "6"
      ]
     },
     "execution_count": 225,
     "metadata": {},
     "output_type": "execute_result"
    }
   ],
   "source": [
    "len(ensemble_retriever.get_relevant_documents(query))"
   ]
  },
  {
   "cell_type": "code",
   "execution_count": 57,
   "id": "d14166e0-90d1-43bc-80fb-1ec328b46db1",
   "metadata": {},
   "outputs": [],
   "source": [
    "# query=\"What is PSX?\"\n",
    "# docs_rel=ensemble_retriever.get_relevant_documents(query)\n",
    "# docs_rel"
   ]
  },
  {
   "cell_type": "code",
   "execution_count": 88,
   "id": "017c9985-5f0f-406d-92c6-2c3451cb2ce2",
   "metadata": {},
   "outputs": [],
   "source": [
    "from langchain.retrievers.document_compressors import CohereRerank\n",
    "from langchain.retrievers import ContextualCompressionRetriever"
   ]
  },
  {
   "cell_type": "code",
   "execution_count": 89,
   "id": "b7d99e65-d1ae-44ce-b84a-9d3c3e38efd9",
   "metadata": {},
   "outputs": [],
   "source": [
    "from langchain_openai import ChatOpenAI\n",
    "from langchain.chains import RetrievalQA\n",
    "llm = ChatOpenAI(model_name=\"gpt-4o-mini\")\n"
   ]
  },
  {
   "cell_type": "code",
   "execution_count": 90,
   "id": "a0a79bc0-e310-4f54-a8bb-ee8fcaa06068",
   "metadata": {},
   "outputs": [],
   "source": [
    "query = \"What is PSX?\""
   ]
  },
  {
   "cell_type": "code",
   "execution_count": 227,
   "id": "be2fca22-9b7f-4066-a5e8-18177f07b60e",
   "metadata": {},
   "outputs": [],
   "source": [
    "from langchain.retrievers.contextual_compression import ContextualCompressionRetriever\n",
    "from langchain_cohere import CohereRerank\n",
    "from langchain_community.llms import Cohere\n",
    "\n",
    "# llm = Cohere(temperature=0)\n",
    "# reranking\n",
    "\n",
    "compressor = CohereRerank(model='rerank-v3.5')\n",
    "compression_retriever = ContextualCompressionRetriever(\n",
    "    base_compressor=compressor, base_retriever=ensemble_retriever\n",
    ")"
   ]
  },
  {
   "cell_type": "code",
   "execution_count": 228,
   "id": "8d921d05-41b3-4953-a3bc-083f4d3fb3fb",
   "metadata": {},
   "outputs": [],
   "source": [
    "compressed_docs = compression_retriever.get_relevant_documents(query)\n",
    "# compressed_docs"
   ]
  },
  {
   "cell_type": "code",
   "execution_count": 260,
   "id": "7660a8cf-548a-40ca-854d-8d4777659287",
   "metadata": {},
   "outputs": [
    {
     "data": {
      "text/plain": [
       "[Document(metadata={'producer': 'iLovePDF', 'creationdate': '', 'creator': 'PyPDF', 'total_pages': 19, 'page_label': '4', 'source': 'Annual-Report-2024-14-32.pdf', 'page': 3, 'moddate': '2025-06-26T06:56:39+00:00', 'relevance_score': 0.7539928}, page_content='PSX Developments and Activities\\nKey Achievements Organization Wide\\nAs a frontline regulator, Pakistan Stock Exchange (PSX) continues to perform robustly for the development of the capital market \\nin line with global standards and to bring innovative products and services for the beneﬁt of investors, issuers, market participants, \\nand other stakeholders. In FY 2024, PSX continued to make headway in technology, listings, regulatory, and other areas with new'),\n",
       " Document(metadata={'producer': 'iLovePDF', 'creator': 'PyPDF', 'creationdate': '', 'moddate': '2025-06-26T06:56:39+00:00', 'source': 'Annual-Report-2024-14-32.pdf', 'total_pages': 19, 'page': 13, 'page_label': '14', 'relevance_score': 0.5709301}, page_content='compared to the previous ﬁscal year.\\nThe PSX WhatsApp Service which is an exciting development leveraging technology has been introduced in the current \\nperiod under review. It is a useful facility oﬀered to the general public whereby investors, issuers, media and general public \\ncan access information on market movement with daily market reports and summaries available; they can also access'),\n",
       " Document(metadata={'producer': 'iLovePDF', 'creator': 'PyPDF', 'creationdate': '', 'moddate': '2025-06-26T06:56:39+00:00', 'source': 'Annual-Report-2024-14-32.pdf', 'total_pages': 19, 'page': 4, 'page_label': '5', 'relevance_score': 0.5185224}, page_content='As a frontline regulator, PSX is also playing its role towards the implementation of Shariah Governance Regulations, 2023. PSX has \\nconducted Shariah sessions and obtained SECP certiﬁcate on the Shariah compliance of its Shariah Indices. Furthermore, the \\nShariah-compliant way of trading is being evaluated at PSX’s Focus Group.\\nPSX is committed towards the promotion of responsible investment in sustainable development and has accordingly issued an')]"
      ]
     },
     "execution_count": 260,
     "metadata": {},
     "output_type": "execute_result"
    }
   ],
   "source": [
    "compressed_docs"
   ]
  },
  {
   "cell_type": "code",
   "execution_count": 168,
   "id": "fcc487e8-37c2-43f5-bed3-6a78faf805ea",
   "metadata": {},
   "outputs": [],
   "source": [
    "def query_expansion(query):\n",
    "    \n",
    "    query_expansion_template = PromptTemplate(\n",
    "            input_variables=[\"query\"],\n",
    "            template=\"\"\"You are a search query expansion expert. Your task is to see if there is any improvement required\n",
    "            in the qiven query. You can make the query in a more understable way\n",
    "            Include relevant synonyms and related terms to improve retrieval.\n",
    "            Return only the expanded query without any explanations or additional text.\n",
    "            If you feel that the query is perfect then you can return the query as it is\n",
    "\n",
    "            Original query: {query}\n",
    "\n",
    "            Expanded query:\"\"\"\n",
    "    )\n",
    "    prompt = query_expansion_template.format(query=query)\n",
    "    # model for query expansion\n",
    "    query_expansion_model = ChatOpenAI(\n",
    "            model_name=\"gpt-4o-mini\",\n",
    "            temperature=0.8  # Lower temperature for more focused query expansion\n",
    "    )\n",
    "    expanded_query = query_expansion_model.predict(prompt)\n",
    "    return expanded_query\n",
    "    "
   ]
  },
  {
   "cell_type": "code",
   "execution_count": 169,
   "id": "5fd1d723-ef4e-40a4-8d43-98abeecf2348",
   "metadata": {},
   "outputs": [],
   "source": [
    "user_query = query_expansion(query)"
   ]
  },
  {
   "cell_type": "code",
   "execution_count": 170,
   "id": "f3439718-624f-4f0e-8232-f7e371552a0d",
   "metadata": {},
   "outputs": [
    {
     "data": {
      "text/plain": [
       "'What is PSX (Pakistan Stock Exchange)?'"
      ]
     },
     "execution_count": 170,
     "metadata": {},
     "output_type": "execute_result"
    }
   ],
   "source": [
    "user_query"
   ]
  },
  {
   "cell_type": "code",
   "execution_count": 171,
   "id": "faddb7c7-911b-43f0-b8f1-aa79bb65dd4b",
   "metadata": {},
   "outputs": [],
   "source": [
    "\n",
    "response_generation_template = PromptTemplate(\n",
    "            input_variables=[\"query\", \"context\"],\n",
    "            template=\"\"\"You are a helpful AI assistant. Use the following context to answer the user's query.\n",
    "            Be clear, concise, and accurate. I don't have answer to this question if the user's query is not in the context\n",
    "\n",
    "            Context:\n",
    "            {context}\n",
    "\n",
    "            User Query: {query}\n",
    "\n",
    "            Response:\"\"\"\n",
    ")\n",
    "\n",
    "prompt = response_generation_template.format(\n",
    "            query=user_query,\n",
    "            context=compressed_docs\n",
    ")\n"
   ]
  },
  {
   "cell_type": "code",
   "execution_count": 172,
   "id": "5ef1b32f-f740-4589-8299-7cec6c6f932e",
   "metadata": {},
   "outputs": [
    {
     "data": {
      "text/plain": [
       "\"You are a helpful AI assistant. Use the following context to answer the user's query.\\n            Be clear, concise, and accurate. I don't have answer to this question if the user's query is not in the context\\n\\n            Context:\\n            [Document(metadata={'producer': 'iLovePDF', 'total_pages': 19, 'page_label': '4', 'moddate': '2025-06-26T06:56:39+00:00', 'creator': 'PyPDF', 'creationdate': '', 'source': 'Annual-Report-2024-14-32.pdf', 'page': 3, 'relevance_score': 0.7539928}, page_content='PSX Developments and Activities\\\\nKey Achievements Organization Wide\\\\nAs a frontline regulator, Pakistan Stock Exchange (PSX) continues to perform robustly for the development of the capital market \\\\nin line with global standards and to bring innovative products and services for the beneﬁt of investors, issuers, market participants, \\\\nand other stakeholders. In FY 2024, PSX continued to make headway in technology, listings, regulatory, and other areas with new'), Document(metadata={'moddate': '2025-06-26T06:56:39+00:00', 'creationdate': '', 'page': 12, 'source': 'Annual-Report-2024-14-32.pdf', 'page_label': '13', 'total_pages': 19, 'creator': 'PyPDF', 'producer': 'iLovePDF', 'relevance_score': 0.6152965}, page_content='Furthermore, the PSX Glossary, accessible through the PSX website, which is a veritable repository of concepts, meanings \\\\nand deﬁnitions related to the ﬁnancial markets, has also been enhanced in the current period under review. It has now been \\\\nexpanded to 600 words and deﬁnitions.'), Document(metadata={'producer': 'iLovePDF', 'creator': 'PyPDF', 'creationdate': '', 'moddate': '2025-06-26T06:56:39+00:00', 'source': 'Annual-Report-2024-14-32.pdf', 'total_pages': 19, 'page': 13, 'page_label': '14', 'relevance_score': 0.5712171}, page_content='compared to the previous ﬁscal year.\\\\nThe PSX WhatsApp Service which is an exciting development leveraging technology has been introduced in the current \\\\nperiod under review. It is a useful facility oﬀered to the general public whereby investors, issuers, media and general public \\\\ncan access information on market movement with daily market reports and summaries available; they can also access')]\\n\\n            User Query: What is PSX (Pakistan Stock Exchange)?\\n\\n            Response:\""
      ]
     },
     "execution_count": 172,
     "metadata": {},
     "output_type": "execute_result"
    }
   ],
   "source": [
    "prompt"
   ]
  },
  {
   "cell_type": "code",
   "execution_count": 183,
   "id": "545f8d67-cb1c-4ac1-a342-642ba2cb40da",
   "metadata": {},
   "outputs": [
    {
     "name": "stderr",
     "output_type": "stream",
     "text": [
      "WARNING! logprobs is not default parameter.\n",
      "                    logprobs was transferred to model_kwargs.\n",
      "                    Please confirm that logprobs is what you intended.\n"
     ]
    }
   ],
   "source": [
    "response_model = ChatOpenAI(\n",
    "            model_name=\"gpt-4o-mini\",\n",
    "            temperature=0.7,  # Higher temperature for more creative responses\n",
    "            logprobs=True\n",
    ")\n",
    "response = response_model.invoke(prompt)"
   ]
  },
  {
   "cell_type": "code",
   "execution_count": 185,
   "id": "1d8479ad-425f-417f-b011-b0e650b9b538",
   "metadata": {},
   "outputs": [
    {
     "data": {
      "text/plain": [
       "'The Pakistan Stock Exchange (PSX) is a frontline regulator and a key player in the development of the capital market in Pakistan. It aims to align its operations with global standards while introducing innovative products and services for the benefit of investors, issuers, market participants, and other stakeholders.'"
      ]
     },
     "execution_count": 185,
     "metadata": {},
     "output_type": "execute_result"
    }
   ],
   "source": [
    "response.content"
   ]
  },
  {
   "cell_type": "code",
   "execution_count": 186,
   "id": "cd6596d8-2a44-40b5-bd14-2eed4e421457",
   "metadata": {},
   "outputs": [
    {
     "data": {
      "text/plain": [
       "{'token_usage': {'completion_tokens': 57,\n",
       "  'prompt_tokens': 600,\n",
       "  'total_tokens': 657,\n",
       "  'completion_tokens_details': {'accepted_prediction_tokens': 0,\n",
       "   'audio_tokens': 0,\n",
       "   'reasoning_tokens': 0,\n",
       "   'rejected_prediction_tokens': 0},\n",
       "  'prompt_tokens_details': {'audio_tokens': 0, 'cached_tokens': 0}},\n",
       " 'model_name': 'gpt-4o-mini',\n",
       " 'system_fingerprint': 'fp_34a54ae93c',\n",
       " 'finish_reason': 'stop',\n",
       " 'logprobs': {'content': [{'token': 'The',\n",
       "    'bytes': [84, 104, 101],\n",
       "    'logprob': -0.026056190952658653,\n",
       "    'top_logprobs': []},\n",
       "   {'token': ' Pakistan',\n",
       "    'bytes': [32, 80, 97, 107, 105, 115, 116, 97, 110],\n",
       "    'logprob': -5.180879816180095e-05,\n",
       "    'top_logprobs': []},\n",
       "   {'token': ' Stock',\n",
       "    'bytes': [32, 83, 116, 111, 99, 107],\n",
       "    'logprob': 0.0,\n",
       "    'top_logprobs': []},\n",
       "   {'token': ' Exchange',\n",
       "    'bytes': [32, 69, 120, 99, 104, 97, 110, 103, 101],\n",
       "    'logprob': 0.0,\n",
       "    'top_logprobs': []},\n",
       "   {'token': ' (', 'bytes': [32, 40], 'logprob': 0.0, 'top_logprobs': []},\n",
       "   {'token': 'PS', 'bytes': [80, 83], 'logprob': 0.0, 'top_logprobs': []},\n",
       "   {'token': 'X', 'bytes': [88], 'logprob': 0.0, 'top_logprobs': []},\n",
       "   {'token': ')', 'bytes': [41], 'logprob': 0.0, 'top_logprobs': []},\n",
       "   {'token': ' is',\n",
       "    'bytes': [32, 105, 115],\n",
       "    'logprob': -0.0001848254178185016,\n",
       "    'top_logprobs': []},\n",
       "   {'token': ' a',\n",
       "    'bytes': [32, 97],\n",
       "    'logprob': -0.5759429931640625,\n",
       "    'top_logprobs': []},\n",
       "   {'token': ' frontline',\n",
       "    'bytes': [32, 102, 114, 111, 110, 116, 108, 105, 110, 101],\n",
       "    'logprob': -0.005374983884394169,\n",
       "    'top_logprobs': []},\n",
       "   {'token': ' regulator',\n",
       "    'bytes': [32, 114, 101, 103, 117, 108, 97, 116, 111, 114],\n",
       "    'logprob': -0.0033031930215656757,\n",
       "    'top_logprobs': []},\n",
       "   {'token': ' and',\n",
       "    'bytes': [32, 97, 110, 100],\n",
       "    'logprob': -1.2823423147201538,\n",
       "    'top_logprobs': []},\n",
       "   {'token': ' a',\n",
       "    'bytes': [32, 97],\n",
       "    'logprob': -0.1389864683151245,\n",
       "    'top_logprobs': []},\n",
       "   {'token': ' key',\n",
       "    'bytes': [32, 107, 101, 121],\n",
       "    'logprob': -0.06618192791938782,\n",
       "    'top_logprobs': []},\n",
       "   {'token': ' player',\n",
       "    'bytes': [32, 112, 108, 97, 121, 101, 114],\n",
       "    'logprob': -0.7973657250404358,\n",
       "    'top_logprobs': []},\n",
       "   {'token': ' in',\n",
       "    'bytes': [32, 105, 110],\n",
       "    'logprob': -0.00038336371653713286,\n",
       "    'top_logprobs': []},\n",
       "   {'token': ' the',\n",
       "    'bytes': [32, 116, 104, 101],\n",
       "    'logprob': -0.0019392271060496569,\n",
       "    'top_logprobs': []},\n",
       "   {'token': ' development',\n",
       "    'bytes': [32, 100, 101, 118, 101, 108, 111, 112, 109, 101, 110, 116],\n",
       "    'logprob': -0.030988818034529686,\n",
       "    'top_logprobs': []},\n",
       "   {'token': ' of',\n",
       "    'bytes': [32, 111, 102],\n",
       "    'logprob': -7.896309739408025e-07,\n",
       "    'top_logprobs': []},\n",
       "   {'token': ' the',\n",
       "    'bytes': [32, 116, 104, 101],\n",
       "    'logprob': -0.012575818225741386,\n",
       "    'top_logprobs': []},\n",
       "   {'token': ' capital',\n",
       "    'bytes': [32, 99, 97, 112, 105, 116, 97, 108],\n",
       "    'logprob': -0.01278791856020689,\n",
       "    'top_logprobs': []},\n",
       "   {'token': ' market',\n",
       "    'bytes': [32, 109, 97, 114, 107, 101, 116],\n",
       "    'logprob': -0.0001584850688232109,\n",
       "    'top_logprobs': []},\n",
       "   {'token': ' in',\n",
       "    'bytes': [32, 105, 110],\n",
       "    'logprob': -0.0004581942630466074,\n",
       "    'top_logprobs': []},\n",
       "   {'token': ' Pakistan',\n",
       "    'bytes': [32, 80, 97, 107, 105, 115, 116, 97, 110],\n",
       "    'logprob': -4.60414821645827e-06,\n",
       "    'top_logprobs': []},\n",
       "   {'token': '.',\n",
       "    'bytes': [46],\n",
       "    'logprob': -0.005928678438067436,\n",
       "    'top_logprobs': []},\n",
       "   {'token': ' It',\n",
       "    'bytes': [32, 73, 116],\n",
       "    'logprob': -0.005116345826536417,\n",
       "    'top_logprobs': []},\n",
       "   {'token': ' aims',\n",
       "    'bytes': [32, 97, 105, 109, 115],\n",
       "    'logprob': -0.13055476546287537,\n",
       "    'top_logprobs': []},\n",
       "   {'token': ' to',\n",
       "    'bytes': [32, 116, 111],\n",
       "    'logprob': 0.0,\n",
       "    'top_logprobs': []},\n",
       "   {'token': ' align',\n",
       "    'bytes': [32, 97, 108, 105, 103, 110],\n",
       "    'logprob': -0.738456130027771,\n",
       "    'top_logprobs': []},\n",
       "   {'token': ' its',\n",
       "    'bytes': [32, 105, 116, 115],\n",
       "    'logprob': -1.4122072458267212,\n",
       "    'top_logprobs': []},\n",
       "   {'token': ' operations',\n",
       "    'bytes': [32, 111, 112, 101, 114, 97, 116, 105, 111, 110, 115],\n",
       "    'logprob': -0.006598844192922115,\n",
       "    'top_logprobs': []},\n",
       "   {'token': ' with',\n",
       "    'bytes': [32, 119, 105, 116, 104],\n",
       "    'logprob': -0.0002036595979006961,\n",
       "    'top_logprobs': []},\n",
       "   {'token': ' global',\n",
       "    'bytes': [32, 103, 108, 111, 98, 97, 108],\n",
       "    'logprob': -4.842555426876061e-06,\n",
       "    'top_logprobs': []},\n",
       "   {'token': ' standards',\n",
       "    'bytes': [32, 115, 116, 97, 110, 100, 97, 114, 100, 115],\n",
       "    'logprob': -1.9361264946837764e-07,\n",
       "    'top_logprobs': []},\n",
       "   {'token': ' while',\n",
       "    'bytes': [32, 119, 104, 105, 108, 101],\n",
       "    'logprob': -1.0848264694213867,\n",
       "    'top_logprobs': []},\n",
       "   {'token': ' introducing',\n",
       "    'bytes': [32, 105, 110, 116, 114, 111, 100, 117, 99, 105, 110, 103],\n",
       "    'logprob': -1.2762670516967773,\n",
       "    'top_logprobs': []},\n",
       "   {'token': ' innovative',\n",
       "    'bytes': [32, 105, 110, 110, 111, 118, 97, 116, 105, 118, 101],\n",
       "    'logprob': -4.320199877838604e-07,\n",
       "    'top_logprobs': []},\n",
       "   {'token': ' products',\n",
       "    'bytes': [32, 112, 114, 111, 100, 117, 99, 116, 115],\n",
       "    'logprob': -1.6240566083070007e-06,\n",
       "    'top_logprobs': []},\n",
       "   {'token': ' and',\n",
       "    'bytes': [32, 97, 110, 100],\n",
       "    'logprob': 0.0,\n",
       "    'top_logprobs': []},\n",
       "   {'token': ' services',\n",
       "    'bytes': [32, 115, 101, 114, 118, 105, 99, 101, 115],\n",
       "    'logprob': 0.0,\n",
       "    'top_logprobs': []},\n",
       "   {'token': ' for',\n",
       "    'bytes': [32, 102, 111, 114],\n",
       "    'logprob': -0.3681650757789612,\n",
       "    'top_logprobs': []},\n",
       "   {'token': ' the',\n",
       "    'bytes': [32, 116, 104, 101],\n",
       "    'logprob': -0.08933668583631516,\n",
       "    'top_logprobs': []},\n",
       "   {'token': ' benefit',\n",
       "    'bytes': [32, 98, 101, 110, 101, 102, 105, 116],\n",
       "    'logprob': -0.00030924470047466457,\n",
       "    'top_logprobs': []},\n",
       "   {'token': ' of',\n",
       "    'bytes': [32, 111, 102],\n",
       "    'logprob': 0.0,\n",
       "    'top_logprobs': []},\n",
       "   {'token': ' investors',\n",
       "    'bytes': [32, 105, 110, 118, 101, 115, 116, 111, 114, 115],\n",
       "    'logprob': -0.00866113230586052,\n",
       "    'top_logprobs': []},\n",
       "   {'token': ',',\n",
       "    'bytes': [44],\n",
       "    'logprob': -0.0001584850688232109,\n",
       "    'top_logprobs': []},\n",
       "   {'token': ' issu',\n",
       "    'bytes': [32, 105, 115, 115, 117],\n",
       "    'logprob': -3.5597102396423e-05,\n",
       "    'top_logprobs': []},\n",
       "   {'token': 'ers',\n",
       "    'bytes': [101, 114, 115],\n",
       "    'logprob': 0.0,\n",
       "    'top_logprobs': []},\n",
       "   {'token': ',', 'bytes': [44], 'logprob': 0.0, 'top_logprobs': []},\n",
       "   {'token': ' market',\n",
       "    'bytes': [32, 109, 97, 114, 107, 101, 116],\n",
       "    'logprob': -0.03804860636591911,\n",
       "    'top_logprobs': []},\n",
       "   {'token': ' participants',\n",
       "    'bytes': [32, 112, 97, 114, 116, 105, 99, 105, 112, 97, 110, 116, 115],\n",
       "    'logprob': 0.0,\n",
       "    'top_logprobs': []},\n",
       "   {'token': ',', 'bytes': [44], 'logprob': 0.0, 'top_logprobs': []},\n",
       "   {'token': ' and',\n",
       "    'bytes': [32, 97, 110, 100],\n",
       "    'logprob': 0.0,\n",
       "    'top_logprobs': []},\n",
       "   {'token': ' other',\n",
       "    'bytes': [32, 111, 116, 104, 101, 114],\n",
       "    'logprob': -0.04341726005077362,\n",
       "    'top_logprobs': []},\n",
       "   {'token': ' stakeholders',\n",
       "    'bytes': [32, 115, 116, 97, 107, 101, 104, 111, 108, 100, 101, 114, 115],\n",
       "    'logprob': 0.0,\n",
       "    'top_logprobs': []},\n",
       "   {'token': '.',\n",
       "    'bytes': [46],\n",
       "    'logprob': -5.676981345459353e-06,\n",
       "    'top_logprobs': []}],\n",
       "  'refusal': None}}"
      ]
     },
     "execution_count": 186,
     "metadata": {},
     "output_type": "execute_result"
    }
   ],
   "source": [
    "response.response_metadata"
   ]
  },
  {
   "cell_type": "code",
   "execution_count": 175,
   "id": "b36ad6e2-201f-402f-9e2d-28c9de965387",
   "metadata": {},
   "outputs": [
    {
     "data": {
      "text/plain": [
       "'The Pakistan Stock Exchange (PSX) is the frontline regulator of the capital market in Pakistan. It aims to develop the market in line with global standards and provides innovative products and services for the benefit of investors, issuers, market participants, and other stakeholders.'"
      ]
     },
     "execution_count": 175,
     "metadata": {},
     "output_type": "execute_result"
    }
   ],
   "source": [
    "response.strip()"
   ]
  },
  {
   "cell_type": "code",
   "execution_count": null,
   "id": "b27c68da-7d31-418a-bca2-d6b27b9f6a06",
   "metadata": {},
   "outputs": [],
   "source": []
  },
  {
   "cell_type": "code",
   "execution_count": 187,
   "id": "06fac569-cafa-4765-ae08-4373be3f2584",
   "metadata": {},
   "outputs": [],
   "source": [
    "import numpy as np\n",
    "\n",
    "def calculate_weighted_confidence_score(llm_results_metadata):\n",
    "    \"\"\"\n",
    "    Calculate the weighted confidence score from the given LLM results metadata containing log probabilities.\n",
    "\n",
    "    Args:\n",
    "        llm_results_metadata (dict): The metadata object containing logprobs information.\n",
    "\n",
    "    Returns:\n",
    "        float: The weighted confidence score calculated from the log probabilities.\n",
    "    \"\"\"\n",
    "    # Extract log probabilities\n",
    "    log_probs = [item['logprob'] for item in llm_results_metadata['logprobs']['content']]\n",
    "\n",
    "    # Convert log probabilities to probabilities\n",
    "    probabilities = np.exp(log_probs)\n",
    "\n",
    "    # Get indices of top 5 probabilities\n",
    "    sorted_indices = np.argsort(log_probs)[-5:]  \n",
    "\n",
    "    # Calculate joint probability for all tokens\n",
    "    joint_probability_all = np.prod(probabilities)\n",
    "\n",
    "    # Calculate joint probability for top 5 tokens\n",
    "    top_probabilities = [probabilities[i] for i in sorted_indices]\n",
    "    joint_probability_top_5 = np.prod(top_probabilities)\n",
    "\n",
    "    # Weighted confidence score (70% from top 5, 30% from all tokens)\n",
    "    confidence_score = round((0.7 * joint_probability_top_5 + 0.3 * joint_probability_all) * 100, 2)\n",
    "\n",
    "    return confidence_score"
   ]
  },
  {
   "cell_type": "code",
   "execution_count": 193,
   "id": "45e87e5c-856e-43fd-985e-9c4fe51aa47a",
   "metadata": {},
   "outputs": [
    {
     "data": {
      "text/plain": [
       "70"
      ]
     },
     "execution_count": 193,
     "metadata": {},
     "output_type": "execute_result"
    }
   ],
   "source": [
    "llm_results_metadata= response.response_metadata\n",
    "int(calculate_weighted_confidence_score(llm_results_metadata))"
   ]
  },
  {
   "cell_type": "code",
   "execution_count": 195,
   "id": "e32dc54e-2b15-4cf8-8e10-7101eb003eb8",
   "metadata": {},
   "outputs": [
    {
     "data": {
      "text/plain": [
       "np.float64(70.01)"
      ]
     },
     "execution_count": 195,
     "metadata": {},
     "output_type": "execute_result"
    }
   ],
   "source": [
    "calculate_weighted_confidence_score(llm_results_metadata)"
   ]
  },
  {
   "cell_type": "code",
   "execution_count": null,
   "id": "ec2ad627-760a-45c3-b08f-f1fbca3e600d",
   "metadata": {},
   "outputs": [],
   "source": []
  }
 ],
 "metadata": {
  "kernelspec": {
   "display_name": "Python 3 (ipykernel)",
   "language": "python",
   "name": "python3"
  },
  "language_info": {
   "codemirror_mode": {
    "name": "ipython",
    "version": 3
   },
   "file_extension": ".py",
   "mimetype": "text/x-python",
   "name": "python",
   "nbconvert_exporter": "python",
   "pygments_lexer": "ipython3",
   "version": "3.10.12"
  }
 },
 "nbformat": 4,
 "nbformat_minor": 5
}
