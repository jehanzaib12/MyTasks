{
 "cells": [
  {
   "cell_type": "code",
   "execution_count": 1,
   "id": "2b53be07-1497-4722-b421-d049448cd857",
   "metadata": {},
   "outputs": [],
   "source": [
    "import json\n",
    "\n",
    "from langchain_core.messages import (\n",
    "    AIMessage,\n",
    "    BaseMessage,\n",
    "    ChatMessage,\n",
    "    FunctionMessage,\n",
    "    HumanMessage,\n",
    ")\n",
    "from langchain.tools.render import format_tool_to_openai_function\n",
    "from langchain_core.prompts import ChatPromptTemplate, MessagesPlaceholder\n",
    "from langgraph.graph import END, StateGraph"
   ]
  },
  {
   "cell_type": "code",
   "execution_count": 2,
   "id": "2d432cb1-47fb-4253-891a-0f3139b3af2c",
   "metadata": {},
   "outputs": [
    {
     "name": "stderr",
     "output_type": "stream",
     "text": [
      "/tmp/ipykernel_239796/573716656.py:6: LangChainDeprecationWarning: The class `TavilySearchResults` was deprecated in LangChain 0.3.25 and will be removed in 1.0. An updated version of the class exists in the :class:`~langchain-tavily package and should be used instead. To use it run `pip install -U :class:`~langchain-tavily` and import as `from :class:`~langchain_tavily import TavilySearch``.\n",
      "  tavily_tool = TavilySearchResults(max_results=5)\n"
     ]
    }
   ],
   "source": [
    "import os\n",
    "os.environ['TAVILY_API_KEY'] = \"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\"\n",
    "\n",
    "from langchain_core.tools import tool\n",
    "from langchain_community.tools.tavily_search import TavilySearchResults\n",
    "tavily_tool = TavilySearchResults(max_results=5) "
   ]
  },
  {
   "cell_type": "code",
   "execution_count": 4,
   "id": "ba6eba49-edeb-4861-a82d-a65f38b2095b",
   "metadata": {},
   "outputs": [],
   "source": [
    "from langchain_experimental.utilities import PythonREPL\n",
    "from typing import Annotated\n",
    "\n",
    "repl = PythonREPL()\n",
    "@tool\n",
    "def python_repl(code: Annotated[str, \"The python code to execute to generate your chart.\"]):\n",
    "    \"\"\"Use this to execute python code. If you want to see the output of a value, you should print it out with `print(...)`. This is visible to the user.\"\"\"\n",
    "    try:\n",
    "        result = repl.run(code)\n",
    "    except BaseException as e:\n",
    "        return f\"Failed to execute. Error: {repr(e)}\"\n",
    "    return f\"Succesfully executed:\\\\\\\\n`python\\\\\\\\\\\\\\\\n{code}\\\\\\\\\\\\\\\\n`\\\\\\\\nStdout: {result}\""
   ]
  },
  {
   "cell_type": "code",
   "execution_count": 5,
   "id": "e7af72a6-5b03-4fed-a9ed-c7dc3b8ae453",
   "metadata": {},
   "outputs": [],
   "source": [
    "\n",
    "\n",
    "tools = [tavily_tool, python_repl]        \n"
   ]
  },
  {
   "cell_type": "code",
   "execution_count": 6,
   "id": "03985069-e32c-4bb9-ad0e-df7cfa560b56",
   "metadata": {},
   "outputs": [],
   "source": [
    "import operator\n",
    "from typing import Annotated, List, Sequence, Tuple, TypedDict, Union\n",
    "\n",
    "from langchain.agents import create_openai_functions_agent\n",
    "from langchain.tools.render import format_tool_to_openai_function\n",
    "from langchain_core.prompts import ChatPromptTemplate, MessagesPlaceholder\n",
    "\n",
    "from langchain_openai import ChatOpenAI\n",
    "from typing_extensions import TypedDictye\n",
    "\n",
    "# This defines the object that is passed between each node\n",
    "# in the graph. We will create different nodes for each agent and tool\n",
    "class AgentState(TypedDict):\n",
    "    messages: Annotated[Sequence[BaseMessage], operator.add]\n",
    "    sender: str "
   ]
  },
  {
   "cell_type": "code",
   "execution_count": 15,
   "id": "6f06e11f-2b71-472e-a58e-43d623bf6a8b",
   "metadata": {},
   "outputs": [],
   "source": [
    "import os\n",
    "from dotenv import load_dotenv\n",
    "\n",
    "load_dotenv() # will search for .env file in local folder and load variables \n",
    "\n",
    "OPENAI_API_KEY = os.getenv('OPENAI_API_KEY')"
   ]
  },
  {
   "cell_type": "code",
   "execution_count": 17,
   "id": "f25513a3-99ad-415a-99c0-42f750668a04",
   "metadata": {},
   "outputs": [],
   "source": [
    "os.environ['OPENAI_API_KEY'] = OPENAI_API_KEY\n"
   ]
  },
  {
   "cell_type": "code",
   "execution_count": 18,
   "id": "5587c25f-7dec-417d-b91d-2af9a0aa22a7",
   "metadata": {},
   "outputs": [],
   "source": [
    "from langchain_openai import ChatOpenAI\n",
    "llm = ChatOpenAI(api_key=OPENAI_API_KEY)\n"
   ]
  },
  {
   "cell_type": "code",
   "execution_count": 20,
   "id": "fa415623-3df4-4ab9-b537-ad49fbee450f",
   "metadata": {},
   "outputs": [],
   "source": [
    "# updated"
   ]
  },
  {
   "cell_type": "code",
   "execution_count": 21,
   "id": "7478c0a5-f734-4e07-81e2-c95f2da6de7b",
   "metadata": {},
   "outputs": [],
   "source": [
    "import logging\n",
    "import os\n",
    "from typing import List\n",
    "\n",
    "from langchain_core.runnables import RunnableLambda\n",
    "from langchain_core.tools import tool\n",
    "from langchain_community.tools.tavily_search import TavilySearchResults\n",
    "from langchain_openai import ChatOpenAI\n",
    "from langchain.agents import create_openai_functions_agent\n",
    "from langchain.agents.agent import AgentExecutor\n",
    "from langgraph.graph import StateGraph, END"
   ]
  },
  {
   "cell_type": "code",
   "execution_count": 116,
   "id": "4fbe8769-5c1b-4ab9-a919-45b35d49d441",
   "metadata": {},
   "outputs": [],
   "source": [
    "logging.basicConfig(level=logging.INFO)\n",
    "\n",
    "# ✅ Initialize Tavily and OpenAI Chat\n",
    "llm = ChatOpenAI(model=\"gpt-4\", temperature=0.5)\n",
    "tavily_tool = TavilySearchResults(max_results=5)\n",
    "tools = [tavily_tool]"
   ]
  },
  {
   "cell_type": "code",
   "execution_count": 117,
   "id": "783fdfcb-114a-4eb5-9ff8-b40e8d31745a",
   "metadata": {},
   "outputs": [],
   "source": [
    "prompt = ChatPromptTemplate.from_messages([\n",
    "    (\"system\", \"You are a research assistant that uses web search to find information on the topic given below\"),\n",
    "    MessagesPlaceholder(variable_name=\"agent_scratchpad\")\n",
    "])"
   ]
  },
  {
   "cell_type": "code",
   "execution_count": 118,
   "id": "8a8f924b-e6aa-4a6b-a653-2f548ce9ac0f",
   "metadata": {},
   "outputs": [],
   "source": [
    "agent = create_openai_functions_agent(llm=llm, tools=tools, prompt=prompt)\n",
    "agent_executor = AgentExecutor(agent=agent, tools=tools, verbose=True)"
   ]
  },
  {
   "cell_type": "code",
   "execution_count": 119,
   "id": "f1fc9f57-0b85-42bf-a2fe-02e977a05481",
   "metadata": {},
   "outputs": [],
   "source": [
    "class ResearchState(dict):\n",
    "    topic: str\n",
    "    plan: str\n",
    "    links: List[str]\n",
    "    contents: str\n",
    "    summary: str\n",
    "    approved: bool"
   ]
  },
  {
   "cell_type": "code",
   "execution_count": 120,
   "id": "7035dd88-ec67-484e-9779-41aa7032f607",
   "metadata": {},
   "outputs": [],
   "source": [
    "def research_planner(state: ResearchState):\n",
    "    topic = state[\"topic\"]\n",
    "    plan = f\"Research plan for '{topic}': 1) Write background 2) Research objectives\"\n",
    "    logging.info(\"Plan created.\")\n",
    "    return {**state, \"plan\": plan}"
   ]
  },
  {
   "cell_type": "code",
   "execution_count": 121,
   "id": "4591428c-2460-44cd-990c-0bfa293ba93a",
   "metadata": {},
   "outputs": [],
   "source": [
    "def information_gatherer(state: ResearchState):\n",
    "    topic = state[\"topic\"]\n",
    "    logging.info(f\"Gathering info on: {topic}\")\n",
    "    result = agent_executor.invoke({\"input\": f\"Find recent web sources about: {topic}\"})\n",
    "    links = []\n",
    "    if isinstance(result, dict) and \"output\" in result:\n",
    "        output = result[\"output\"]\n",
    "        links = output.split(\"\\n\")[:3]  # naive extraction\n",
    "    logging.info(f\"Links gathered: {links}\")\n",
    "    return {**state, \"links\": links}"
   ]
  },
  {
   "cell_type": "code",
   "execution_count": 122,
   "id": "6124a511-3a21-4d00-9071-f4dc8a674b83",
   "metadata": {},
   "outputs": [],
   "source": [
    "def content_analyzer(state: ResearchState):\n",
    "    if not state.get(\"links\"):\n",
    "        raise ValueError(\"No links to analyze.\")\n",
    "    contents = \"\\n\".join([f\"Summary of {link}\" for link in state[\"links\"]])\n",
    "    logging.info(\"Content analyzed.\")\n",
    "    return {**state, \"contents\": contents}"
   ]
  },
  {
   "cell_type": "code",
   "execution_count": 123,
   "id": "092b743f-f297-4ee4-be02-37e3d587cf68",
   "metadata": {},
   "outputs": [],
   "source": [
    "\n",
    "def report_generator(state: ResearchState):\n",
    "    summary = f\"Report on '{state['topic']}':\\n{state['contents']}\"\n",
    "    logging.info(\"Report generated.\")\n",
    "    return {**state, \"summary\": summary}"
   ]
  },
  {
   "cell_type": "code",
   "execution_count": 124,
   "id": "866d81af-1000-4cdd-be84-235b60c8a13b",
   "metadata": {},
   "outputs": [],
   "source": [
    "def human_review(state: ResearchState):\n",
    "    print(\"Do you approve this report? (yes/no)\")\n",
    "    approval = input()\n",
    "    approved = approval.lower().strip() == \"yes\"\n",
    "    return {**state, \"approved\": approved}"
   ]
  },
  {
   "cell_type": "code",
   "execution_count": 125,
   "id": "a7814f8f-8c62-4eb9-9d41-0d3d77697a06",
   "metadata": {},
   "outputs": [],
   "source": [
    "\n",
    "def error_recovery(state: ResearchState):\n",
    "    logging.warning(\"Recovering from error...\")\n",
    "    return {**state, \"links\": [], \"contents\": \"Fallback content.\"}"
   ]
  },
  {
   "cell_type": "code",
   "execution_count": 126,
   "id": "392698c5-9bf1-42f1-893a-29a514be26ee",
   "metadata": {},
   "outputs": [],
   "source": [
    "\n",
    "builder = StateGraph(ResearchState)"
   ]
  },
  {
   "cell_type": "code",
   "execution_count": 127,
   "id": "d59a1961-ccbf-4fd8-9946-eeae178fd04c",
   "metadata": {},
   "outputs": [
    {
     "data": {
      "text/plain": [
       "<langgraph.graph.state.StateGraph at 0x7795f68c3eb0>"
      ]
     },
     "execution_count": 127,
     "metadata": {},
     "output_type": "execute_result"
    }
   ],
   "source": [
    "builder.add_node(\"Planner\", RunnableLambda(research_planner))\n",
    "builder.add_node(\"Gatherer\", RunnableLambda(information_gatherer))\n",
    "builder.add_node(\"Analyzer\", RunnableLambda(content_analyzer))\n",
    "builder.add_node(\"Reporter\", RunnableLambda(report_generator))\n",
    "builder.add_node(\"Review\", RunnableLambda(human_review))\n",
    "builder.add_node(\"Recovery\", RunnableLambda(error_recovery))\n"
   ]
  },
  {
   "cell_type": "code",
   "execution_count": 128,
   "id": "3352f070-7f9d-40ab-93fb-a84876fdfa10",
   "metadata": {},
   "outputs": [
    {
     "data": {
      "text/plain": [
       "<langgraph.graph.state.StateGraph at 0x7795f68c3eb0>"
      ]
     },
     "execution_count": 128,
     "metadata": {},
     "output_type": "execute_result"
    }
   ],
   "source": [
    "\n",
    "builder.set_entry_point(\"Planner\")\n",
    "\n",
    "builder.add_edge(\"Planner\", \"Gatherer\")\n",
    "builder.add_edge(\"Gatherer\", \"Analyzer\")"
   ]
  },
  {
   "cell_type": "code",
   "execution_count": 129,
   "id": "d7f01efd-8132-414e-a3ad-efed762fcaec",
   "metadata": {},
   "outputs": [
    {
     "data": {
      "text/plain": [
       "<langgraph.graph.state.StateGraph at 0x7795f68c3eb0>"
      ]
     },
     "execution_count": 129,
     "metadata": {},
     "output_type": "execute_result"
    }
   ],
   "source": [
    "builder.add_conditional_edges(\n",
    "    \"Analyzer\",\n",
    "    lambda state: \"Recovery\" if not state.get(\"contents\") else \"Reporter\",\n",
    "    {\"Recovery\": \"Reporter\", \"Reporter\": \"Review\"}\n",
    ")\n",
    "\n",
    "builder.add_conditional_edges(\n",
    "    \"Review\",\n",
    "    lambda state: END if state.get(\"approved\") else \"Gatherer\",\n",
    "    {END: END, \"Gatherer\": \"Analyzer\"}\n",
    ")"
   ]
  },
  {
   "cell_type": "code",
   "execution_count": 130,
   "id": "af603be2-0202-466d-a3fd-beff5ec63189",
   "metadata": {},
   "outputs": [
    {
     "name": "stderr",
     "output_type": "stream",
     "text": [
      "INFO:root:Plan created.\n",
      "INFO:root:Gathering info on: AI in modern world\n"
     ]
    },
    {
     "name": "stdout",
     "output_type": "stream",
     "text": [
      "\n",
      "\n",
      "\u001b[1m> Entering new AgentExecutor chain...\u001b[0m\n"
     ]
    },
    {
     "name": "stderr",
     "output_type": "stream",
     "text": [
      "INFO:httpx:HTTP Request: POST https://api.openai.com/v1/chat/completions \"HTTP/1.1 200 OK\"\n"
     ]
    },
    {
     "name": "stdout",
     "output_type": "stream",
     "text": [
      "\u001b[32;1m\u001b[1;3m\n",
      "Invoking: `tavily_search_results_json` with `{'query': 'latest advancements in artificial intelligence'}`\n",
      "\n",
      "\n",
      "\u001b[0m\u001b[36;1m\u001b[1;3m[{'title': 'Latest Development of Artificial Intelligence | InData Labs', 'url': 'https://indatalabs.com/blog/ai-latest-developments', 'content': '### #3: AI advancements in healthcare\\n\\nThe latest development of artificial intelligence in the healthcare world is enabling improvements in accurate diagnoses, clinical decision-making, and optimal patient care. [...] Some of the most recent advancements in this field include the release of Magnifier, a behavioral analytics solution from Palo Alto Networks. The latest AI developments solution models network behavior by using machine learning to enhance threat detection.\\n\\nAlphabet, the parent company of Google, has introduced the cybersecurity intelligence platform Chronicle to streamline and improve cybersecurity measures as we know them.\\n\\n### #9: AI applications in fintech [...] ## Exploring recent developments in artificial intelligence\\n\\nHere are some of the latest artificial intelligence developments that you should know about.\\n\\n### #1: Artificial intelligence trends in robotics\\n\\nMany robotics startups are now embracing AI to develop and automate new AI systems. Firms like Olis Robotics have been driving innovation through the use of plug-and-play controls fitted with AI-powered software.', 'score': 0.84858394}, {'title': 'Latest AI Breakthroughs and News: May-June 2025 - Crescendo.ai', 'url': 'https://www.crescendo.ai/news/latest-ai-news-and-updates', 'content': \"**Summary:** Google announced significant AI advancements, including the release of Gemini 2.0, their most capable model to date, featuring agentic capabilities for developers, enterprises, and individuals. They also introduced new AI video and image generation models, Veo 2 and Imagen 3, achieving state-of-the-art results in head-to-head comparisons. These developments highlight Google's commitment to advancing AI technology across various applications. [...] Wondering whatâ\\x80\\x99s happening in the AI world? Here is the list of the latest AI breakthroughs and news you must be aware of. The field of artificial intelligence continues to evolve at an unprecedented pace, with breakthroughs and advancements reshaping industries, governments, and daily life. Hereâ\\x80\\x99s a deeper look into some of the most impactful AI-related events. [...] **Date:** March 12, 2025  \\n**Summary:** China is accelerating AI development to counter U.S. trade restrictions, rolling out models like Manus and DeepSeek, which rival top U.S. counterparts. The government collaborates with private sectors and universities, reducing dependence on imported technology and establishing a National Computing Power Grid to support AI advancements.\", 'score': 0.8232293}, {'title': 'Advancements in Artificial Intelligence and Machine Learning', 'url': 'https://online-engineering.case.edu/blog/advancements-in-artificial-intelligence-and-machine-learning', 'content': 'This article will explore the latest advancements in artificial intelligence and machine learning, including recent development of advanced algorithms.\\n\\n## Deep Learning and Neural Networks', 'score': 0.81630427}, {'title': 'Top AI Trends 2025: Key Developments to Watch - Appinventiv', 'url': 'https://appinventiv.com/blog/ai-trends/', 'content': 'One of the latest artificial intelligence trends is Quantum AI, which improves AI algorithms by utilizing quantum computing ideas. This method could pave the way for new developments in areas like complex system optimization, material science, and [encryption](https://appinventiv.com/blog/ultimate-guide-advantages-encryption-technology/) by solving complicated problems far more quickly than traditional computers. [...] **A.** The current state of AI includes advancements in AutoML for automating machine learning processes, the rise of Multi-modal AI combining text, image, and speech processing, Explainable AI for transparency in decision-making, enhanced Computer Vision capabilities, and the evolution of Neural Networks for more efficient learning. Additionally, Digital Twins are gaining prominence for simulating real-world objects digitally, reflecting the diverse applications transforming industries', 'score': 0.8010817}, {'title': 'Clarifying The Latest AI Advancements - Forbes', 'url': 'https://www.forbes.com/councils/forbestechcouncil/2025/03/05/clarifying-the-latest-ai-advancements/', 'content': '## Addressing The Sustainability Problem\\n\\nAnother “invisible” AI advancement is improvements to the training of large language models (LLMs), which have a high cost and energy expenditure. [...] I did notice these significant improvements as well as the need to recognize and understand these milestones. The idea that the improvements in AI over the past year do not represent as large a leap in overall performance as the jump between GPT-3 and GPT-4 is incorrect. There are several advances that should not remain invisible.\\n\\n## Scaffolding And Guardrails', 'score': 0.79939574}]\u001b[0m"
     ]
    },
    {
     "name": "stderr",
     "output_type": "stream",
     "text": [
      "INFO:httpx:HTTP Request: POST https://api.openai.com/v1/chat/completions \"HTTP/1.1 200 OK\"\n",
      "INFO:root:Links gathered: ['Here are some of the latest advancements in the field of Artificial Intelligence:', '', '1. **AI advancements in healthcare**: AI is being used to improve accurate diagnoses, clinical decision-making, and optimal patient care. For instance, Magnifier, a behavioral analytics solution from Palo Alto Networks, models network behavior using machine learning to enhance threat detection [source](https://indatalabs.com/blog/ai-latest-developments).']\n",
      "INFO:root:Content analyzed.\n"
     ]
    },
    {
     "name": "stdout",
     "output_type": "stream",
     "text": [
      "\u001b[32;1m\u001b[1;3mHere are some of the latest advancements in the field of Artificial Intelligence:\n",
      "\n",
      "1. **AI advancements in healthcare**: AI is being used to improve accurate diagnoses, clinical decision-making, and optimal patient care. For instance, Magnifier, a behavioral analytics solution from Palo Alto Networks, models network behavior using machine learning to enhance threat detection [source](https://indatalabs.com/blog/ai-latest-developments).\n",
      "\n",
      "2. **AI in cybersecurity**: Alphabet, the parent company of Google, introduced the cybersecurity intelligence platform Chronicle to streamline and improve cybersecurity measures [source](https://indatalabs.com/blog/ai-latest-developments).\n",
      "\n",
      "3. **AI trends in robotics**: Many robotics startups are using AI to develop and automate new systems. For example, firms like Olis Robotics are driving innovation through the use of plug-and-play controls fitted with AI-powered software [source](https://indatalabs.com/blog/ai-latest-developments).\n",
      "\n",
      "4. **Google's AI advancements**: Google announced significant AI advancements, including the release of Gemini 2.0, their most capable model to date, featuring agentic capabilities for developers, enterprises, and individuals. They also introduced new AI video and image generation models, Veo 2 and Imagen 3 [source](https://www.crescendo.ai/news/latest-ai-news-and-updates).\n",
      "\n",
      "5. **China's AI development**: In response to U.S. trade restrictions, China is accelerating AI development, rolling out models like Manus and DeepSeek, which rival top U.S. counterparts [source](https://www.crescendo.ai/news/latest-ai-news-and-updates).\n",
      "\n",
      "6. **Quantum AI**: One of the latest AI trends is Quantum AI, which improves AI algorithms by using quantum computing ideas. This could pave the way for new developments in areas like complex system optimization, material science, and encryption [source](https://appinventiv.com/blog/ai-trends/).\n",
      "\n",
      "7. **Advancements in AutoML**: The current state of AI includes advancements in AutoML for automating machine learning processes, the rise of Multi-modal AI combining text, image, and speech processing, and Explainable AI for transparency in decision-making [source](https://appinventiv.com/blog/ai-trends/).\n",
      "\n",
      "8. **Improvements in training large language models (LLMs)**: Significant improvements have been made in training large language models, which have a high cost and energy expenditure [source](https://www.forbes.com/councils/forbestechcouncil/2025/03/05/clarifying-the-latest-ai-advancements/).\u001b[0m\n",
      "\n",
      "\u001b[1m> Finished chain.\u001b[0m\n",
      "Do you approve this report? (yes/no)\n"
     ]
    },
    {
     "name": "stdin",
     "output_type": "stream",
     "text": [
      " yes\n"
     ]
    }
   ],
   "source": [
    "graph = builder.compile()\n",
    "\n",
    "# ✅ Run\n",
    "initial_state = ResearchState(topic=\"AI in modern world\")\n",
    "final_state = graph.invoke(initial_state)\n",
    "\n"
   ]
  },
  {
   "cell_type": "code",
   "execution_count": 131,
   "id": "610538dc-86f5-4428-99df-3ca014fb1585",
   "metadata": {},
   "outputs": [
    {
     "name": "stdout",
     "output_type": "stream",
     "text": [
      "\n",
      "📄 Final Report:\n",
      "{'topic': 'AI in modern world', 'plan': \"Research plan for 'AI in modern world': 1) Write background 2) Research objectives\", 'links': ['Here are some of the latest advancements in the field of Artificial Intelligence:', '', '1. **AI advancements in healthcare**: AI is being used to improve accurate diagnoses, clinical decision-making, and optimal patient care. For instance, Magnifier, a behavioral analytics solution from Palo Alto Networks, models network behavior using machine learning to enhance threat detection [source](https://indatalabs.com/blog/ai-latest-developments).'], 'contents': 'Summary of Here are some of the latest advancements in the field of Artificial Intelligence:\\nSummary of \\nSummary of 1. **AI advancements in healthcare**: AI is being used to improve accurate diagnoses, clinical decision-making, and optimal patient care. For instance, Magnifier, a behavioral analytics solution from Palo Alto Networks, models network behavior using machine learning to enhance threat detection [source](https://indatalabs.com/blog/ai-latest-developments).', 'approved': True}\n"
     ]
    }
   ],
   "source": [
    "print(\"\\n📄 Final Report:\")\n",
    "print(final_state)"
   ]
  },
  {
   "cell_type": "code",
   "execution_count": 132,
   "id": "dacab61d-96f9-466c-a1e8-fa04a32292b4",
   "metadata": {},
   "outputs": [
    {
     "name": "stdout",
     "output_type": "stream",
     "text": [
      "AI in modern world\n",
      "Research plan for 'AI in modern world': 1) Write background 2) Research objectives\n",
      "['Here are some of the latest advancements in the field of Artificial Intelligence:', '', '1. **AI advancements in healthcare**: AI is being used to improve accurate diagnoses, clinical decision-making, and optimal patient care. For instance, Magnifier, a behavioral analytics solution from Palo Alto Networks, models network behavior using machine learning to enhance threat detection [source](https://indatalabs.com/blog/ai-latest-developments).']\n",
      "Summary of Here are some of the latest advancements in the field of Artificial Intelligence:\n",
      "Summary of \n",
      "Summary of 1. **AI advancements in healthcare**: AI is being used to improve accurate diagnoses, clinical decision-making, and optimal patient care. For instance, Magnifier, a behavioral analytics solution from Palo Alto Networks, models network behavior using machine learning to enhance threat detection [source](https://indatalabs.com/blog/ai-latest-developments).\n"
     ]
    }
   ],
   "source": [
    "print(final_state['topic'])\n",
    "print(final_state['plan'])\n",
    "print(final_state['links'])\n",
    "\n",
    "\n",
    "print(final_state['contents'])\n"
   ]
  },
  {
   "cell_type": "code",
   "execution_count": null,
   "id": "cc90e066-525f-4c4d-b508-8abeaa2a4539",
   "metadata": {},
   "outputs": [],
   "source": []
  }
 ],
 "metadata": {
  "kernelspec": {
   "display_name": "Python 3 (ipykernel)",
   "language": "python",
   "name": "python3"
  },
  "language_info": {
   "codemirror_mode": {
    "name": "ipython",
    "version": 3
   },
   "file_extension": ".py",
   "mimetype": "text/x-python",
   "name": "python",
   "nbconvert_exporter": "python",
   "pygments_lexer": "ipython3",
   "version": "3.10.12"
  }
 },
 "nbformat": 4,
 "nbformat_minor": 5
}
