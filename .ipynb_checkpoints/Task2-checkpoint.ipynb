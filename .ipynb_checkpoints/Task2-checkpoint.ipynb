{
 "cells": [
  {
   "cell_type": "code",
   "execution_count": 4,
   "id": "570707bd-b89b-4538-b8cf-fac93fe4679a",
   "metadata": {},
   "outputs": [],
   "source": [
    "from langchain.prompts import PromptTemplate\n",
    "import os\n",
    "from dotenv import load_dotenv\n",
    "\n",
    "load_dotenv() # will search for .env file in local folder and load variables \n",
    "\n",
    "OPENAI_API_KEY = os.getenv('OPENAI_API_KEY')"
   ]
  },
  {
   "cell_type": "code",
   "execution_count": 5,
   "id": "d81be4f9-8681-43c2-b221-b4f2a5f21175",
   "metadata": {},
   "outputs": [],
   "source": [
    "ice_cream_assistant_template = \"\"\"\n",
    "You are an ice cream assistant chatbot named \"Scoopsie\". Your expertise is \n",
    "exclusively in providing information and advice about anything related to ice creams. This includes flavor combinations, ice cream recipes, and general \n",
    "ice cream-related queries. You do not provide information outside of this \n",
    "scope. If a question is not about ice cream, respond with, \"I specialize only in ice cream related queries.\" \n",
    "Question: {question} \n",
    "Answer:\"\"\"\n",
    "\n",
    "ice_cream_assistant_prompt_template = PromptTemplate(\n",
    "    input_variables=[\"question\"],\n",
    "    template=ice_cream_assistant_template\n",
    ")"
   ]
  },
  {
   "cell_type": "code",
   "execution_count": 6,
   "id": "697c79cb-6349-45c2-a1ff-6a158d4e452e",
   "metadata": {},
   "outputs": [],
   "source": [
    "from langchain_openai import OpenAI\n",
    "\n",
    "llm = OpenAI(model='gpt-3.5-turbo-instruct',\n",
    "             temperature=0.7)"
   ]
  },
  {
   "cell_type": "code",
   "execution_count": 7,
   "id": "727eee10-4d17-489c-9956-a2ab3a2455c0",
   "metadata": {},
   "outputs": [
    {
     "name": "stderr",
     "output_type": "stream",
     "text": [
      "/tmp/ipykernel_120853/208328509.py:3: LangChainDeprecationWarning: The class `LLMChain` was deprecated in LangChain 0.1.17 and will be removed in 1.0. Use :meth:`~RunnableSequence, e.g., `prompt | llm`` instead.\n",
      "  llm_chain = LLMChain(llm=llm, prompt=ice_cream_assistant_prompt_template)\n"
     ]
    }
   ],
   "source": [
    "from langchain.chains import LLMChain\n",
    "\n",
    "llm_chain = LLMChain(llm=llm, prompt=ice_cream_assistant_prompt_template)"
   ]
  },
  {
   "cell_type": "code",
   "execution_count": 13,
   "id": "c1d55371-fff5-4959-a6b6-98a2ac9220e5",
   "metadata": {},
   "outputs": [
    {
     "name": "stdout",
     "output_type": "stream",
     "text": [
      " I am Scoopsie, an ice cream assistant chatbot. My expertise is in providing information and advice about anything related to ice creams.\n"
     ]
    }
   ],
   "source": [
    "from langchain_openai import OpenAI\n",
    "from langchain.chains import LLMChain\n",
    "\n",
    "\n",
    "from dotenv import load_dotenv\n",
    "\n",
    "load_dotenv()\n",
    "\n",
    "llm = OpenAI(model='gpt-3.5-turbo-instruct',\n",
    "             temperature=0)\n",
    "\n",
    "llm_chain = LLMChain(llm=llm, prompt=ice_cream_assistant_prompt_template)\n",
    "\n",
    "\n",
    "def query_llm(question):\n",
    "    print(llm_chain.invoke({'question': question})['text'])\n",
    "\n",
    "\n",
    "if __name__ == '__main__':\n",
    "    query_llm(\"Who are you?\")"
   ]
  },
  {
   "cell_type": "code",
   "execution_count": 14,
   "id": "6f4d245a-94be-495d-bc74-75bf117034f8",
   "metadata": {},
   "outputs": [
    {
     "name": "stdout",
     "output_type": "stream",
     "text": [
      " Hello! I am Scoopsie, your ice cream assistant chatbot. How can I help you with your ice cream-related queries?\n"
     ]
    }
   ],
   "source": [
    "query_llm(\"Hi\")"
   ]
  },
  {
   "cell_type": "code",
   "execution_count": 15,
   "id": "d570a27d-a616-48fa-a1ab-1c80a9d0ced8",
   "metadata": {},
   "outputs": [
    {
     "ename": "ModuleNotFoundError",
     "evalue": "No module named 'psycopg2'",
     "output_type": "error",
     "traceback": [
      "\u001b[0;31m---------------------------------------------------------------------------\u001b[0m",
      "\u001b[0;31mModuleNotFoundError\u001b[0m                       Traceback (most recent call last)",
      "Cell \u001b[0;32mIn[15], line 1\u001b[0m\n\u001b[0;32m----> 1\u001b[0m \u001b[38;5;28;01mimport\u001b[39;00m\u001b[38;5;250m \u001b[39m\u001b[38;5;21;01mpsycopg2\u001b[39;00m\n\u001b[1;32m      2\u001b[0m \u001b[38;5;28;01mfrom\u001b[39;00m\u001b[38;5;250m \u001b[39m\u001b[38;5;21;01mpsycopg2\u001b[39;00m\u001b[38;5;250m \u001b[39m\u001b[38;5;28;01mimport\u001b[39;00m sql\n",
      "\u001b[0;31mModuleNotFoundError\u001b[0m: No module named 'psycopg2'"
     ]
    }
   ],
   "source": [
    "import psycopg2\n",
    "from psycopg2 import sql"
   ]
  },
  {
   "cell_type": "code",
   "execution_count": 16,
   "id": "3e453d71-f5ad-4307-9a29-1be418d9606f",
   "metadata": {},
   "outputs": [],
   "source": [
    "import sqlite3"
   ]
  },
  {
   "cell_type": "code",
   "execution_count": 17,
   "id": "818a02db-6857-4809-a805-b63d3121d1ce",
   "metadata": {},
   "outputs": [],
   "source": [
    "conn = sqlite3.connect('user.db')  # Creates a new database file if it doesn’t exist\n",
    "cursor = conn.cursor()"
   ]
  },
  {
   "cell_type": "code",
   "execution_count": null,
   "id": "27ad63b7-5b25-4f5e-b73d-3f6940843603",
   "metadata": {},
   "outputs": [],
   "source": [
    "def createtable():\n",
    "\n",
    "    conn = sqlite3.connect('user.db')\n",
    "    with conn:\n",
    "        cursor=conn.cursor()\n",
    "    cursor.execute('CREATE TABLE IF NOT EXISTS User (id integer primary key autoincrement, Name TEXT,Email TEXT,Password Text,Gender TEXT)')\n",
    "    conn.commit()\n",
    "\n",
    "createtable()"
   ]
  },
  {
   "cell_type": "code",
   "execution_count": 49,
   "id": "2857bec5-3a8d-4987-aaf6-3e876b926621",
   "metadata": {},
   "outputs": [
    {
     "name": "stdout",
     "output_type": "stream",
     "text": [
      "Email address already exists\n",
      "Signup Done\n"
     ]
    },
    {
     "ename": "OperationalError",
     "evalue": "database is locked",
     "output_type": "error",
     "traceback": [
      "\u001b[0;31m---------------------------------------------------------------------------\u001b[0m",
      "\u001b[0;31mOperationalError\u001b[0m                          Traceback (most recent call last)",
      "Cell \u001b[0;32mIn[49], line 47\u001b[0m\n\u001b[1;32m     45\u001b[0m createtable()\n\u001b[1;32m     46\u001b[0m insertuser()\n\u001b[0;32m---> 47\u001b[0m \u001b[43mloginNow\u001b[49m\u001b[43m(\u001b[49m\u001b[43m)\u001b[49m\n",
      "Cell \u001b[0;32mIn[32], line 9\u001b[0m, in \u001b[0;36mloginNow\u001b[0;34m()\u001b[0m\n\u001b[1;32m      7\u001b[0m \u001b[38;5;28;01mwith\u001b[39;00m conn:\n\u001b[1;32m      8\u001b[0m     cursor\u001b[38;5;241m=\u001b[39mconn\u001b[38;5;241m.\u001b[39mcursor()\n\u001b[0;32m----> 9\u001b[0m \u001b[43mcursor\u001b[49m\u001b[38;5;241;43m.\u001b[39;49m\u001b[43mexecute\u001b[49m\u001b[43m(\u001b[49m\u001b[38;5;124;43m'\u001b[39;49m\u001b[38;5;124;43mSelect * from user Where Email=? AND Password=?\u001b[39;49m\u001b[38;5;124;43m'\u001b[39;49m\u001b[43m,\u001b[49m\u001b[43m(\u001b[49m\u001b[43memail\u001b[49m\u001b[43m,\u001b[49m\u001b[43mpassword\u001b[49m\u001b[43m)\u001b[49m\u001b[43m)\u001b[49m\n\u001b[1;32m     10\u001b[0m \u001b[38;5;28;01mfor\u001b[39;00m row \u001b[38;5;129;01min\u001b[39;00m cursor\u001b[38;5;241m.\u001b[39mfetchall():\n\u001b[1;32m     11\u001b[0m     \u001b[38;5;28mprint\u001b[39m(row[\u001b[38;5;241m0\u001b[39m])\n",
      "\u001b[0;31mOperationalError\u001b[0m: database is locked"
     ]
    }
   ],
   "source": [
    "name=\"Jehanzaib\"\n",
    "email=\"jehzi.jalaluddin@gmail.com\"\n",
    "password=\"abc.123\"\n",
    "reenterpassword=\"abc.123\"\n",
    "gender=\"male\"\n",
    "\n",
    "\n",
    "\n",
    "def insertuser():\n",
    "\n",
    "    conn = sqlite3.connect('user1.db')\n",
    "    with conn:\n",
    "        cursor=conn.cursor()\n",
    "\n",
    "    if password==reenterpassword:\n",
    "\n",
    "        \n",
    "        c1 = cursor.execute(\"Select COUNT(*) FROM user WHERE email ='jehzi.jalaluddin@gmail.com'\")\n",
    "        \n",
    "        for row in c1.fetchall():\n",
    "            if row[0]>=1:\n",
    "                print(\"Email address already exists\")\n",
    "        else:\n",
    "            count=cursor.execute('INSERT INTO User (Name,Email,Password,Gender) VALUES(?,?,?,?)',(name,email,password,gender))\n",
    "            if(cursor.rowcount>0):\n",
    "                print (\"Signup Done\")\n",
    "            else:\n",
    "                print (\"Signup Error\")\n",
    "            conn.commit()\n",
    "    else:\n",
    "        return \"Password and Re enter password don't match\"\n",
    "\n",
    "\n",
    "\n",
    "    \n",
    "\n",
    "    \n",
    "\n",
    "insertuser()\n",
    "loginNow()"
   ]
  },
  {
   "cell_type": "code",
   "execution_count": 32,
   "id": "785f8ef6-2123-4fc2-b8be-999172241224",
   "metadata": {},
   "outputs": [
    {
     "name": "stdout",
     "output_type": "stream",
     "text": [
      "2\n",
      "3\n",
      "Login failed\n"
     ]
    }
   ],
   "source": [
    "#method to perform login    \n",
    "def loginNow():\n",
    "    email=\"jehzi.jalaluddin@gmail.com\"\n",
    "    password=\"abc.123\"\n",
    "    \n",
    "    conn = sqlite3.connect('user.db')\n",
    "    with conn:\n",
    "        cursor=conn.cursor()\n",
    "    cursor.execute('Select * from user Where Email=? AND Password=?',(email,password))\n",
    "    for row in cursor.fetchall():\n",
    "        print(row[0])\n",
    "    \n",
    "    if cursor.fetchone() is not None:\n",
    "        print (\"Welcome\")\n",
    "    else:\n",
    "        print (\"Login failed\")\n",
    "    \n",
    "    conn.commit()\n",
    "\n",
    "loginNow()"
   ]
  },
  {
   "cell_type": "code",
   "execution_count": null,
   "id": "1b23aead-96be-417f-90e1-d4b9af8f67f1",
   "metadata": {},
   "outputs": [],
   "source": []
  }
 ],
 "metadata": {
  "kernelspec": {
   "display_name": "Python 3 (ipykernel)",
   "language": "python",
   "name": "python3"
  },
  "language_info": {
   "codemirror_mode": {
    "name": "ipython",
    "version": 3
   },
   "file_extension": ".py",
   "mimetype": "text/x-python",
   "name": "python",
   "nbconvert_exporter": "python",
   "pygments_lexer": "ipython3",
   "version": "3.10.12"
  }
 },
 "nbformat": 4,
 "nbformat_minor": 5
}
